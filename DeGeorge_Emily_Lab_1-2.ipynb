{
 "cells": [
  {
   "cell_type": "markdown",
   "id": "4e0d38e9",
   "metadata": {},
   "source": [
    "# Lab 1"
   ]
  },
  {
   "cell_type": "markdown",
   "id": "b99f2edb",
   "metadata": {},
   "source": [
    "See the list below. Please write a program that will tell you what the longest word is in the list. Package your program inside of a function."
   ]
  },
  {
   "cell_type": "code",
   "execution_count": 5,
   "id": "614b9fb3",
   "metadata": {},
   "outputs": [
    {
     "name": "stdout",
     "output_type": "stream",
     "text": [
      "chestnut\n"
     ]
    }
   ],
   "source": [
    "#1\n",
    "list = [\"apple\", \"chestnut\", \"gargoyle\", \"pandas\", \"sheep\", \"raptor\"]\n",
    "\n",
    "def get_max_str(list):\n",
    "    answer = max(list, key=len)\n",
    "    print(answer)\n",
    "    \n",
    "get_max_str(list)"
   ]
  },
  {
   "cell_type": "markdown",
   "id": "a2b3cadc",
   "metadata": {},
   "source": [
    "2. Now that you have built the program above, in a new cell, edit your program: import a .txt file of a list of words and have your program randomly choose 7 words from the file to add to a list, and then have the program determine the longest word as you did above. "
   ]
  },
  {
   "cell_type": "code",
   "execution_count": 7,
   "id": "355e4387",
   "metadata": {},
   "outputs": [
    {
     "name": "stdout",
     "output_type": "stream",
     "text": [
      "governance\n"
     ]
    }
   ],
   "source": [
    "#2\n",
    "\n",
    "# wordlist found on mit.edu (https://www.google.com/url?sa=t&rct=j&q=&esrc=s&source=web&cd=&ved=2ahUKEwiYqrHGmYL9AhV4FlkFHSFeC6oQFnoECBgQAQ&url=https%3A%2F%2Fwww.mit.edu%2F~ecprice%2Fwordlist.10000&usg=AOvVaw1yQBg6ndPZjDyBGpKePuz2)\n",
    "\n",
    "import random\n",
    "wordlist = \"wordlist.txt\"\n",
    "random_list = []\n",
    "\n",
    "\n",
    "def longest_word_gen():\n",
    "    filename = wordlist\n",
    "    f = open(filename, \"r\", encoding = \"utf8\")\n",
    "    words = f.readlines()\n",
    "    f.close()\n",
    "    for i in range(7):\n",
    "        return random_list.append(random.choice(words).strip())\n",
    "\n",
    "longest_word_gen()\n",
    "get_max_str(random_list)"
   ]
  },
  {
   "cell_type": "markdown",
   "id": "31f0b52b",
   "metadata": {},
   "source": [
    "3. Pretend that you're going to be leading a review session on dictionaries. Build a program that uses dictionaries and incorporates at least 4 built-in methods. [See full list on W3Schools](https://www.w3schools.com/python/python_ref_dictionary.asp) "
   ]
  },
  {
   "cell_type": "code",
   "execution_count": 38,
   "id": "738a01e4",
   "metadata": {},
   "outputs": [
    {
     "name": "stdout",
     "output_type": "stream",
     "text": [
      "Dict with Popitem: {'apples': 5.77, 'peaches': 10.33, 'pears': 7.88, 'chocolate': 4.33} \n",
      "Copied dict: {'apples': 5.77, 'peaches': 10.33, 'pears': 7.88, 'chocolate': 4.33} \n",
      "dict_keys(['apples', 'peaches', 'pears', 'chocolate'])\n",
      "10.33\n"
     ]
    }
   ],
   "source": [
    "#3\n",
    "\n",
    "grocery_dict = {\"apples\": 5.77, \"peaches\": 10.33, \"pears\": 7.88, \"chocolate\": 4.33, \"berries\": 2.12}\n",
    "\n",
    "grocery_dict.popitem()\n",
    "print(f'Dict with Popitem: {new_dict} ')\n",
    "\n",
    "new_dict = grocery_dict.copy()\n",
    "print(f'Copied dict: {new_dict} ')\n",
    "\n",
    "print(grocery_dict.keys())\n",
    "\n",
    "print(grocery_dict.get(\"peaches\"))"
   ]
  },
  {
   "cell_type": "markdown",
   "id": "045cf71d",
   "metadata": {},
   "source": [
    "4. Using OOP, I want you to build one of the following things. As part of the excerise, please write out your brainstorming process in a comment or markdown cell:\n",
    "\n",
    "\n",
    "*   A system to manage a student's school record (would need a way to gather/store personal information, record grades, record GPA, etc.)\n",
    "*   A class that allows you to create your own flashcards & then allows you to review them (this would work best with language cards - like one word is in Spanish, one in English)\n",
    "*   A class (or series of classes) to correspond with a gameplay (for example, a fighter class, a bard class, a wizard class)"
   ]
  },
  {
   "cell_type": "code",
   "execution_count": 21,
   "id": "be4a2daa",
   "metadata": {},
   "outputs": [
    {
     "name": "stdout",
     "output_type": "stream",
     "text": [
      "Student name: Michael Jacobs \n",
      "Student address: 33 Grand Street \n",
      "Student email: MJacobs@binghamton.edu\n",
      "Class list: [['HARP 151', 'ENVI 101', 'WRIT 111']] \n"
     ]
    }
   ],
   "source": [
    "#4\n",
    "\n",
    "class School_record: #creating the class School_record\n",
    "    def __init__(self, Bnumber, gpa, address, first, last): #init function with different parameters for the methods to use\n",
    "        self.Bnumber = Bnumber\n",
    "        self.address = address\n",
    "        self.class_list = []\n",
    "        self.first = first\n",
    "        self.last = last\n",
    "        \n",
    "    def personal_info(self): #method that prints off the first and last name\n",
    "        print(f'Student name: {self.first} {self.last} ')\n",
    "        print(f'Student address: {self.address} ') #prints off the student address\n",
    "        \n",
    "    def generate_email(self): #generates a B email using first letter of first name and first 6 of the last name\n",
    "        print(f'Student email: {self.first[0]}{self.last[0:6]}@binghamton.edu')\n",
    "        \n",
    "    def classes(self, i): #appends entered classes to a list\n",
    "        if i not in self.class_list:\n",
    "            self.class_list.append(i)\n",
    "            print(f'Class list: {self.class_list} ')\n",
    "        \n",
    "        \n",
    "d1 = School_record(10095633, 4.0, \"33 Grand Street\", \"Michael\", \"Jacobs\")\n",
    "d1.personal_info()\n",
    "d1.generate_email()\n",
    "d1.classes([\"HARP 151\", \"ENVI 101\", \"WRIT 111\"])\n",
    "#calls the desired methods"
   ]
  },
  {
   "cell_type": "markdown",
   "id": "224a452a",
   "metadata": {},
   "source": [
    "5. Finalize your Hangman program and submit it. Include any necessary comments and explain what you had \"refreshed\" by building it in class. If appropriate, use functions or OOP to package the pieces of your code. "
   ]
  },
  {
   "cell_type": "code",
   "execution_count": 1,
   "id": "8f8b5453",
   "metadata": {},
   "outputs": [
    {
     "name": "stdout",
     "output_type": "stream",
     "text": [
      "________guess a character:s\n",
      "s_______guess a character:u\n",
      "su______guess a character:p\n",
      "sup_____guess a character:e\n",
      "supe____guess a character:r\n",
      "super___guess a character:m\n",
      "superm__guess a character:a\n",
      "superma_guess a character:n\n",
      "superman"
     ]
    }
   ],
   "source": [
    "word = (\"superman\")\n",
    "guesses = '' \n",
    "turns = 10 # the user has 10 tries to complete the word\n",
    "\n",
    "while turns > 0: #added while loop to play until failed=0        \n",
    "    failed = 0             \n",
    "    \n",
    "    for char in word:    \n",
    "        if char in guesses:    \n",
    "            print (char,end=\"\"),    \n",
    "\n",
    "        else:\n",
    "\n",
    "            print (\"_\",end=\"\"),     \n",
    "            failed += 1    \n",
    "\n",
    "\n",
    "    if failed == 0:        \n",
    "\n",
    "        break            \n",
    "    guess = input(\"guess a character:\") \n",
    "    guesses += guess                    \n",
    "\n",
    "    if guess not in word:  \n",
    "\n",
    "        turns -= 1        \n",
    "\n",
    "        print (\"Wrong\")  \n",
    "\n",
    "        print (\"You have\", + turns, 'more guesses' )\n",
    " \n",
    "        if turns == 0:    #game ends when the user gets to 10 turns       \n",
    "            print (\"You Lose\"  )"
   ]
  }
 ],
 "metadata": {
  "kernelspec": {
   "display_name": "Python 3 (ipykernel)",
   "language": "python",
   "name": "python3"
  },
  "language_info": {
   "codemirror_mode": {
    "name": "ipython",
    "version": 3
   },
   "file_extension": ".py",
   "mimetype": "text/x-python",
   "name": "python",
   "nbconvert_exporter": "python",
   "pygments_lexer": "ipython3",
   "version": "3.9.12"
  }
 },
 "nbformat": 4,
 "nbformat_minor": 5
}
